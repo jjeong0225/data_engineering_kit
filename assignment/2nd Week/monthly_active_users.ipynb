{
 "cells": [
  {
   "cell_type": "code",
   "execution_count": 2,
   "metadata": {},
   "outputs": [],
   "source": [
    "import psycopg2 as pg\n",
    "import pandas as pd"
   ]
  },
  {
   "cell_type": "code",
   "execution_count": 3,
   "metadata": {},
   "outputs": [],
   "source": [
    "def get_Redshift_connection(hostname, user, pw, port, dbname):\n",
    "    conn = pg.connect(host = hostname, user = user, password = pw, \n",
    "                     port=port, dbname=dbname)\n",
    "    conn.set_session(readonly=True, autocommit=True)\n",
    "    return conn.cursor()"
   ]
  },
  {
   "cell_type": "code",
   "execution_count": 4,
   "metadata": {},
   "outputs": [],
   "source": [
    "hostname = \"learnde.cduaw970ssvt.ap-northeast-2.redshift.amazonaws.com\"\n",
    "redshift_user = \"four2qhrm\"\n",
    "redshift_pass = \"42Qhrm!1\"\n",
    "port = 5439\n",
    "dbname = \"prod\"\n",
    "\n",
    "cursor = get_Redshift_connection(hostname, redshift_user, redshift_pass, port, dbname)"
   ]
  },
  {
   "cell_type": "code",
   "execution_count": 6,
   "metadata": {},
   "outputs": [
    {
     "name": "stdout",
     "output_type": "stream",
     "text": [
      "    Period  Count\n",
      "0  2019-11    721\n",
      "1  2019-10    763\n",
      "2  2019-09    639\n",
      "3  2019-08    662\n",
      "4  2019-07    623\n",
      "5  2019-06    459\n",
      "6  2019-05    281\n"
     ]
    }
   ],
   "source": [
    "sql = \"SELECT to_char(ts::date, 'YYYY-MM') AS period, count(DISTINCT userid) as count_result FROM raw_data.session_timestamp AS A INNER JOIN raw_data.user_session_channel AS B on A.sessionid = B.sessionid GROUP BY period ORDER BY 1 DESC;\"\n",
    "\n",
    "cursor.execute(sql)\n",
    "df = pd.DataFrame(cursor.fetchall())\n",
    "df.columns = ['Period', 'Count']\n",
    "\n",
    "print(df)\n"
   ]
  },
  {
   "cell_type": "code",
   "execution_count": null,
   "metadata": {},
   "outputs": [],
   "source": []
  }
 ],
 "metadata": {
  "kernelspec": {
   "display_name": "Python 3",
   "language": "python",
   "name": "python3"
  },
  "language_info": {
   "codemirror_mode": {
    "name": "ipython",
    "version": 3
   },
   "file_extension": ".py",
   "mimetype": "text/x-python",
   "name": "python",
   "nbconvert_exporter": "python",
   "pygments_lexer": "ipython3",
   "version": "3.7.6"
  }
 },
 "nbformat": 4,
 "nbformat_minor": 4
}
